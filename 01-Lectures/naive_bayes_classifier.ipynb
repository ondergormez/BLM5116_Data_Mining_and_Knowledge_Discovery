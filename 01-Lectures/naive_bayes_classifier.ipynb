{
 "cells": [
  {
   "cell_type": "markdown",
   "metadata": {},
   "source": [
    "# Naive Bayes Formula\n",
    "\n",
    "The Naive Bayes formula is given by:\n",
    "\n",
    "$$\n",
    "P(Ck | x) = \\frac{P(C_k) \\cdot P(x | C_k)}{P(x)}\n",
    "$$\n",
    "\n",
    "Where:\n",
    "- $ P(C_k | x) $ is the posterior probability of class $ C_k $ given the feature vector $ x $.\n",
    "- $ P(C_k) $ is the prior probability of class $ C_k $.\n",
    "- $ P(x | C_k) $ is the likelihood of the feature vector $ x $ given class $ C_k $.\n",
    "- $ P(x) $ is the marginal probability of the feature vector $ x $."
   ]
  },
  {
   "cell_type": "markdown",
   "metadata": {},
   "source": [
    "# Naive Bayes Classifier\n",
    "\n",
    "Aşağıda cinsiyete göre insanların promosyonlara olan istekliliklerini gösteren bir data paylaşılmıştır."
   ]
  },
  {
   "cell_type": "code",
   "execution_count": 46,
   "metadata": {},
   "outputs": [
    {
     "data": {
      "text/html": [
       "<div>\n",
       "<style scoped>\n",
       "    .dataframe tbody tr th:only-of-type {\n",
       "        vertical-align: middle;\n",
       "    }\n",
       "\n",
       "    .dataframe tbody tr th {\n",
       "        vertical-align: top;\n",
       "    }\n",
       "\n",
       "    .dataframe thead th {\n",
       "        text-align: right;\n",
       "    }\n",
       "</style>\n",
       "<table border=\"1\" class=\"dataframe\">\n",
       "  <thead>\n",
       "    <tr style=\"text-align: right;\">\n",
       "      <th></th>\n",
       "      <th>Magazine Promotion</th>\n",
       "      <th>Watch Promotion</th>\n",
       "      <th>Life Insurance Promotion</th>\n",
       "      <th>Credit Card Insurance</th>\n",
       "      <th>Sex</th>\n",
       "    </tr>\n",
       "  </thead>\n",
       "  <tbody>\n",
       "    <tr>\n",
       "      <th>0</th>\n",
       "      <td>Yes</td>\n",
       "      <td>No</td>\n",
       "      <td>No</td>\n",
       "      <td>No</td>\n",
       "      <td>Male</td>\n",
       "    </tr>\n",
       "    <tr>\n",
       "      <th>1</th>\n",
       "      <td>Yes</td>\n",
       "      <td>Yes</td>\n",
       "      <td>Yes</td>\n",
       "      <td>Yes</td>\n",
       "      <td>Female</td>\n",
       "    </tr>\n",
       "    <tr>\n",
       "      <th>2</th>\n",
       "      <td>No</td>\n",
       "      <td>No</td>\n",
       "      <td>No</td>\n",
       "      <td>No</td>\n",
       "      <td>Male</td>\n",
       "    </tr>\n",
       "    <tr>\n",
       "      <th>3</th>\n",
       "      <td>Yes</td>\n",
       "      <td>Yes</td>\n",
       "      <td>Yes</td>\n",
       "      <td>Yes</td>\n",
       "      <td>Male</td>\n",
       "    </tr>\n",
       "    <tr>\n",
       "      <th>4</th>\n",
       "      <td>Yes</td>\n",
       "      <td>No</td>\n",
       "      <td>Yes</td>\n",
       "      <td>No</td>\n",
       "      <td>Female</td>\n",
       "    </tr>\n",
       "    <tr>\n",
       "      <th>5</th>\n",
       "      <td>No</td>\n",
       "      <td>No</td>\n",
       "      <td>No</td>\n",
       "      <td>No</td>\n",
       "      <td>Female</td>\n",
       "    </tr>\n",
       "    <tr>\n",
       "      <th>6</th>\n",
       "      <td>Yes</td>\n",
       "      <td>Yes</td>\n",
       "      <td>Yes</td>\n",
       "      <td>Yes</td>\n",
       "      <td>Male</td>\n",
       "    </tr>\n",
       "    <tr>\n",
       "      <th>7</th>\n",
       "      <td>No</td>\n",
       "      <td>No</td>\n",
       "      <td>No</td>\n",
       "      <td>No</td>\n",
       "      <td>Male</td>\n",
       "    </tr>\n",
       "    <tr>\n",
       "      <th>8</th>\n",
       "      <td>Yes</td>\n",
       "      <td>No</td>\n",
       "      <td>No</td>\n",
       "      <td>No</td>\n",
       "      <td>Male</td>\n",
       "    </tr>\n",
       "    <tr>\n",
       "      <th>9</th>\n",
       "      <td>Yes</td>\n",
       "      <td>Yes</td>\n",
       "      <td>Yes</td>\n",
       "      <td>No</td>\n",
       "      <td>Female</td>\n",
       "    </tr>\n",
       "  </tbody>\n",
       "</table>\n",
       "</div>"
      ],
      "text/plain": [
       "  Magazine Promotion Watch Promotion Life Insurance Promotion  \\\n",
       "0                Yes              No                       No   \n",
       "1                Yes             Yes                      Yes   \n",
       "2                 No              No                       No   \n",
       "3                Yes             Yes                      Yes   \n",
       "4                Yes              No                      Yes   \n",
       "5                 No              No                       No   \n",
       "6                Yes             Yes                      Yes   \n",
       "7                 No              No                       No   \n",
       "8                Yes              No                       No   \n",
       "9                Yes             Yes                      Yes   \n",
       "\n",
       "  Credit Card Insurance     Sex  \n",
       "0                    No    Male  \n",
       "1                   Yes  Female  \n",
       "2                    No    Male  \n",
       "3                   Yes    Male  \n",
       "4                    No  Female  \n",
       "5                    No  Female  \n",
       "6                   Yes    Male  \n",
       "7                    No    Male  \n",
       "8                    No    Male  \n",
       "9                    No  Female  "
      ]
     },
     "execution_count": 46,
     "metadata": {},
     "output_type": "execute_result"
    }
   ],
   "source": [
    "import pandas as pd\n",
    "\n",
    "\n",
    "# Initialize an empty DataFrame\n",
    "promotion_df = pd.DataFrame()\n",
    "\n",
    "# Add data to the DataFrame\n",
    "promotion_df['Magazine Promotion'] = ['Yes', 'Yes', 'No', 'Yes', 'Yes', 'No', 'Yes', 'No', 'Yes', 'Yes']\n",
    "promotion_df['Watch Promotion'] = ['No', 'Yes', 'No', 'Yes', 'No', 'No', 'Yes', 'No', 'No', 'Yes']\n",
    "promotion_df['Life Insurance Promotion'] = ['No', 'Yes', 'No', 'Yes', 'Yes', 'No', 'Yes', 'No', 'No', 'Yes']\n",
    "promotion_df['Credit Card Insurance'] = ['No', 'Yes', 'No', 'Yes', 'No', 'No', 'Yes', 'No', 'No', 'No']\n",
    "promotion_df['Sex'] = ['Male', 'Female', 'Male', 'Male', 'Female', 'Female', 'Male', 'Male', 'Male', 'Female']\n",
    "\n",
    "promotion_df"
   ]
  },
  {
   "cell_type": "markdown",
   "metadata": {},
   "source": [
    "Yukarıdaki datayı baz alarak yeni gelen bir kişinin promosyonlara verdiği cevaba bağlı olarak cinsiyetini tahmin eden bir Naive Bayes Classifier modeli oluşturacağız. Yeni gelen kişi aşağıdaki gibi bir cevap vermiştir:\n",
    "* Magazine Promotion: Yes\n",
    "* Watch Promotion: Yes\n",
    "* Life Insurence Promotion: No\n",
    "* Credit Card Insurance: No\n",
    "\n",
    "Bu bilgilere göre kişinin cinsiyeti nedir?\n",
    "\n",
    "# Cevap\n",
    "* Burada yeni gelen örneğin cinsiyetine karar verebilmek için veri setinde bulunan sample ların cinsiyetlerine göre olasılıklarını hesaplayacağız. Daha sonra bu olasılıkları kullanarak yeni gelen örneğin cinsiyetini tahmin edeceğiz.\n",
    "* Bunun için genelleştirilmiş aşağıdaki fonksiyon ile hesaplamalar yapılabilir."
   ]
  },
  {
   "cell_type": "code",
   "execution_count": 49,
   "metadata": {},
   "outputs": [],
   "source": [
    "from IPython.display import display\n",
    "\n",
    "# Calculate the probability of each promotion type\n",
    "def calculate_probability(promotion_df, target_colunm_name, column_name, expected_column_value):\n",
    "    \n",
    "    num_of_samples = promotion_df.shape[0]\n",
    "    print(f\"Total number of samples: {num_of_samples}\")\n",
    "\n",
    "    # get distinct values in the target column\n",
    "    target_values = promotion_df[target_colunm_name].unique()\n",
    "    # print(target_values)\n",
    "\n",
    "    print(f\"Probability to be calculated for '{column_name} --> {expected_column_value}', one of the target columns: {target_values}\")\n",
    "    print()\n",
    "\n",
    "    count_series = promotion_df[column_name].groupby(promotion_df[target_colunm_name]).value_counts()\n",
    "    print(f\"Number of {target_values} counts in '{column_name}':\")\n",
    "    print(count_series)\n",
    "    print()\n",
    "    \n",
    "    # print(count_series.index)\n",
    "    # print(type(count_series))\n",
    "\n",
    "    # Get each probability values of interest\n",
    "    series_to_be_returned_dict = {}\n",
    "    for target_value in target_values:\n",
    "        counts_of_interest = count_series[(target_value, expected_column_value)]\n",
    "        total_counts = count_series[target_value].sum()\n",
    "        series_to_be_returned_dict[(target_value, expected_column_value)] = counts_of_interest / total_counts\n",
    "\n",
    "        print(f\"Total counts of '{target_value}': {total_counts}\")\n",
    "        print(f\"Probability of '{column_name} --> {expected_column_value}' for '{target_value}': {counts_of_interest} / {total_counts} = {series_to_be_returned_dict[(target_value, expected_column_value)]}\")\n",
    "        print()\n",
    "\n",
    "    return series_to_be_returned_dict"
   ]
  },
  {
   "cell_type": "markdown",
   "metadata": {},
   "source": [
    "# Magazine Promotion --> Yes"
   ]
  },
  {
   "cell_type": "code",
   "execution_count": 48,
   "metadata": {},
   "outputs": [
    {
     "name": "stdout",
     "output_type": "stream",
     "text": [
      "Total number of samples: 10\n",
      "Probability to be calculated for 'Magazine Promotion --> Yes', one of the target columns: ['Male' 'Female']\n",
      "\n",
      "Number of ['Male' 'Female'] counts in 'Magazine Promotion':\n",
      "Sex     Magazine Promotion\n",
      "Female  Yes                   3\n",
      "        No                    1\n",
      "Male    Yes                   4\n",
      "        No                    2\n",
      "Name: count, dtype: int64\n",
      "\n",
      "Total counts of 'Male': 6\n",
      "Probability of 'Magazine Promotion --> Yes' for 'Male': 4 / 6 = 0.6666666666666666\n",
      "\n",
      "Total counts of 'Female': 4\n",
      "Probability of 'Magazine Promotion --> Yes' for 'Female': 3 / 4 = 0.75\n",
      "\n"
     ]
    }
   ],
   "source": [
    "magazine_promotion_prob_dict = calculate_probability(promotion_df, 'Sex', 'Magazine Promotion', 'Yes')"
   ]
  },
  {
   "cell_type": "markdown",
   "metadata": {},
   "source": [
    "# Watch Promotion --> Yes"
   ]
  },
  {
   "cell_type": "code",
   "execution_count": 50,
   "metadata": {},
   "outputs": [
    {
     "name": "stdout",
     "output_type": "stream",
     "text": [
      "Total number of samples: 10\n",
      "Probability to be calculated for 'Watch Promotion --> Yes', one of the target columns: ['Male' 'Female']\n",
      "\n",
      "Number of ['Male' 'Female'] counts in 'Watch Promotion':\n",
      "Sex     Watch Promotion\n",
      "Female  No                 2\n",
      "        Yes                2\n",
      "Male    No                 4\n",
      "        Yes                2\n",
      "Name: count, dtype: int64\n",
      "\n",
      "Total counts of 'Male': 6\n",
      "Probability of 'Watch Promotion --> Yes' for 'Male': 2 / 6 = 0.3333333333333333\n",
      "\n",
      "Total counts of 'Female': 4\n",
      "Probability of 'Watch Promotion --> Yes' for 'Female': 2 / 4 = 0.5\n",
      "\n"
     ]
    }
   ],
   "source": [
    "watch_promotion_prob_dict = calculate_probability(promotion_df, 'Sex', 'Watch Promotion', 'Yes')"
   ]
  },
  {
   "cell_type": "markdown",
   "metadata": {},
   "source": [
    "# Life Insurence Promotion --> No"
   ]
  },
  {
   "cell_type": "code",
   "execution_count": 51,
   "metadata": {},
   "outputs": [
    {
     "name": "stdout",
     "output_type": "stream",
     "text": [
      "Total number of samples: 10\n",
      "Probability to be calculated for 'Life Insurance Promotion --> No', one of the target columns: ['Male' 'Female']\n",
      "\n",
      "Number of ['Male' 'Female'] counts in 'Life Insurance Promotion':\n",
      "Sex     Life Insurance Promotion\n",
      "Female  Yes                         3\n",
      "        No                          1\n",
      "Male    No                          4\n",
      "        Yes                         2\n",
      "Name: count, dtype: int64\n",
      "\n",
      "Total counts of 'Male': 6\n",
      "Probability of 'Life Insurance Promotion --> No' for 'Male': 4 / 6 = 0.6666666666666666\n",
      "\n",
      "Total counts of 'Female': 4\n",
      "Probability of 'Life Insurance Promotion --> No' for 'Female': 1 / 4 = 0.25\n",
      "\n"
     ]
    }
   ],
   "source": [
    "life_insurance_promotion_prob_dict = calculate_probability(promotion_df, 'Sex', 'Life Insurance Promotion', 'No')"
   ]
  },
  {
   "cell_type": "markdown",
   "metadata": {},
   "source": [
    "# Credit Card Promotion --> No"
   ]
  },
  {
   "cell_type": "code",
   "execution_count": 52,
   "metadata": {},
   "outputs": [
    {
     "name": "stdout",
     "output_type": "stream",
     "text": [
      "Total number of samples: 10\n",
      "Probability to be calculated for 'Credit Card Insurance --> No', one of the target columns: ['Male' 'Female']\n",
      "\n",
      "Number of ['Male' 'Female'] counts in 'Credit Card Insurance':\n",
      "Sex     Credit Card Insurance\n",
      "Female  No                       3\n",
      "        Yes                      1\n",
      "Male    No                       4\n",
      "        Yes                      2\n",
      "Name: count, dtype: int64\n",
      "\n",
      "Total counts of 'Male': 6\n",
      "Probability of 'Credit Card Insurance --> No' for 'Male': 4 / 6 = 0.6666666666666666\n",
      "\n",
      "Total counts of 'Female': 4\n",
      "Probability of 'Credit Card Insurance --> No' for 'Female': 3 / 4 = 0.75\n",
      "\n"
     ]
    }
   ],
   "source": [
    "credit_card_insurance_prob_dict = calculate_probability(promotion_df, 'Sex', 'Credit Card Insurance', 'No')"
   ]
  },
  {
   "cell_type": "markdown",
   "metadata": {},
   "source": [
    "# Sonuç\n",
    "\n",
    "Sample'lar incelendiğinde cinsiyetlerin olasılıkları aşağıdaki gibi hesaplanabilir.\n",
    "* Erkek Olma Olasılığı: 6 / 10 = 0.6\n",
    "* Kadın Olma Olasılığı: 4 / 10 = 0.4\n",
    "\n",
    "Yukarıdaki olaslıklarla, her bir promotion tipi için yes verme olasılıklarını çarparsak, nihai olarak erkeklerin ve kadınların olasılıklarını bulabiliriz.\n",
    "\n",
    "Total counts of 'Male': 6  \n",
    "Total counts of 'Female': 4  \n",
    "\n",
    "\n",
    "Probability of 'Magazine Promotion --> Yes' for 'Male': 4 / 6 = 0.6666666666666666  \n",
    "Probability of 'Watch Promotion --> Yes' for 'Male': 2 / 6 = 0.3333333333333333  \n",
    "Probability of 'Life Insurance Promotion --> No' for 'Male': 4 / 6 = 0.6666666666666666  \n",
    "Probability of 'Credit Card Insurance --> No' for 'Male': 4 / 6 = 0.6666666666666666  \n",
    "\n",
    "Total Probability of Mele:  \n",
    "0.6666666666666666 * 0.3333333333333333 * 0.6666666666666666 * 0.6666666666666666 = 0.09876543209876543  \n",
    "\n",
    "Probability of 'Magazine Promotion --> Yes' for 'Female': 3 / 4 = 0.75  \n",
    "Probability of 'Watch Promotion --> Yes' for 'Female': 2 / 4 = 0.5  \n",
    "Probability of 'Life Insurance Promotion --> No' for 'Female': 1 / 4 = 0.25  \n",
    "Probability of 'Credit Card Insurance --> No' for 'Female': 3 / 4 = 0.75  \n",
    "\n",
    "Total Probability of Female:  \n",
    "0.75 * 0.5 * 0.25 * 0.75 = 0.0703125  \n",
    "\n",
    "* Erkek olma olasılığı: 0.09876543209876543 * 0.6 = 0.05925925925925926\n",
    "* Kadın olma olasılığı: 0.0703125 * 0.4 = 0.028125\n",
    "\n",
    "Yukarıdaki 2 olasılıktan erkek olma olasılığı daha yüksek olduğu için, yeni gelen kişinin cinsiyeti erkek olarak tahmin edilir. Genel olarak navie bayes classifier bu şekilde çalışır."
   ]
  }
 ],
 "metadata": {
  "kernelspec": {
   "display_name": "python_3_12_2_venv",
   "language": "python",
   "name": "python3"
  },
  "language_info": {
   "codemirror_mode": {
    "name": "ipython",
    "version": 3
   },
   "file_extension": ".py",
   "mimetype": "text/x-python",
   "name": "python",
   "nbconvert_exporter": "python",
   "pygments_lexer": "ipython3",
   "version": "3.12.3"
  }
 },
 "nbformat": 4,
 "nbformat_minor": 2
}
